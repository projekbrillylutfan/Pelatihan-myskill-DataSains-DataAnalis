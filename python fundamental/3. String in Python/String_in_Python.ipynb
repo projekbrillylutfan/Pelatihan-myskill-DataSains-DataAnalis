{
 "cells": [
  {
   "attachments": {},
   "cell_type": "markdown",
   "metadata": {},
   "source": [
    "# String Introduction"
   ]
  },
  {
   "cell_type": "code",
   "execution_count": 4,
   "metadata": {},
   "outputs": [
    {
     "data": {
      "text/plain": [
       "'myskill'"
      ]
     },
     "execution_count": 4,
     "metadata": {},
     "output_type": "execute_result"
    }
   ],
   "source": [
    "\"myskill\" or 'myskill'"
   ]
  },
  {
   "cell_type": "code",
   "execution_count": 5,
   "metadata": {},
   "outputs": [
    {
     "name": "stdout",
     "output_type": "stream",
     "text": [
      "m\n"
     ]
    }
   ],
   "source": [
    "print(\"myskill providing course\"[0])"
   ]
  },
  {
   "attachments": {},
   "cell_type": "markdown",
   "metadata": {},
   "source": [
    "# akses karakter di string"
   ]
  },
  {
   "cell_type": "code",
   "execution_count": 6,
   "metadata": {},
   "outputs": [
    {
     "name": "stdout",
     "output_type": "stream",
     "text": [
      "String with the use of single Quotes : \n",
      "Welcome to Myskill\n",
      "\n",
      "string with the use of double Quotes : \n",
      "i'm john\n",
      "\n",
      "string with the use of double Quotes : \n",
      "i'm myskill student and i develop \"skill\"\n",
      "\n",
      "string with the use of double Quotes : \n",
      "\n",
      "            myskill\n",
      "            for\n",
      "            life\n",
      "            \n"
     ]
    }
   ],
   "source": [
    "# Creting a String \n",
    "# With single Quotes\n",
    "string1 = 'Welcome to Myskill'\n",
    "print(\"String with the use of single Quotes : \")\n",
    "print(string1)\n",
    "\n",
    "# Creating a string \n",
    "# with double Quotes\n",
    "string1 = \"i'm john\"\n",
    "print(\"\\nstring with the use of double Quotes : \")\n",
    "print(string1)\n",
    "\n",
    "# creating a string \n",
    "# With triple Quotes\n",
    "string1 = '''i'm myskill student and i develop \"skill\"'''\n",
    "print(\"\\nstring with the use of double Quotes : \")\n",
    "print(string1)\n",
    "\n",
    "# creating string with triple \n",
    "# Quotes allows multiple lines\n",
    "string1 = '''\n",
    "            myskill\n",
    "            for\n",
    "            life\n",
    "            '''\n",
    "print(\"\\nstring with the use of double Quotes : \")\n",
    "print(string1)"
   ]
  },
  {
   "cell_type": "code",
   "execution_count": 7,
   "metadata": {},
   "outputs": [
    {
     "name": "stdout",
     "output_type": "stream",
     "text": [
      "initial string : \n",
      "myskill\n",
      "\n",
      "first character of string is :\n",
      "m\n",
      "\n",
      "first character of string is :\n",
      "l\n"
     ]
    }
   ],
   "source": [
    "string1 = \"myskill\"\n",
    "print(\"initial string : \")\n",
    "print(string1)\n",
    "\n",
    "# printing first character\n",
    "print(\"\\nfirst character of string is :\")\n",
    "print(string1[0])\n",
    "\n",
    "#printing last character\n",
    "print(\"\\nfirst character of string is :\")\n",
    "print(string1[-1])"
   ]
  },
  {
   "attachments": {},
   "cell_type": "markdown",
   "metadata": {},
   "source": [
    "# delete dan update di string"
   ]
  },
  {
   "attachments": {},
   "cell_type": "markdown",
   "metadata": {},
   "source": [
    "### reverse string"
   ]
  },
  {
   "cell_type": "code",
   "execution_count": 8,
   "metadata": {},
   "outputs": [
    {
     "name": "stdout",
     "output_type": "stream",
     "text": [
      "lliksym\n"
     ]
    }
   ],
   "source": [
    "msk = \"myskill\"\n",
    "print(msk[::-1])"
   ]
  },
  {
   "cell_type": "code",
   "execution_count": 9,
   "metadata": {},
   "outputs": [],
   "source": [
    "msk = \"myskill\"\n",
    "msk = \"\".join(reversed(msk))"
   ]
  },
  {
   "cell_type": "code",
   "execution_count": 10,
   "metadata": {},
   "outputs": [
    {
     "name": "stdout",
     "output_type": "stream",
     "text": [
      "lliksym\n"
     ]
    }
   ],
   "source": [
    "print(msk)"
   ]
  },
  {
   "attachments": {},
   "cell_type": "markdown",
   "metadata": {},
   "source": [
    "### string slicing"
   ]
  },
  {
   "cell_type": "code",
   "execution_count": 11,
   "metadata": {},
   "outputs": [
    {
     "name": "stdout",
     "output_type": "stream",
     "text": [
      "intial string :\n",
      "myskill\n",
      "\n",
      "slicing character from 3-12: \n",
      "kill\n",
      "\n",
      "slicing character between 3rd and 2nd last character : \n",
      "kil\n"
     ]
    }
   ],
   "source": [
    "# creating a string\n",
    "string1 = \"myskill\"\n",
    "print(\"intial string :\")\n",
    "print(string1)\n",
    "\n",
    "# printing 3rd to 12th character\n",
    "print(\"\\nslicing character from 3-12: \")\n",
    "print(string1[3:7])\n",
    "\n",
    "#printing character between\n",
    "#3rd and 2nd last charcter\n",
    "print(\"\\nslicing character between \" +\n",
    "      \"3rd and 2nd last character : \")\n",
    "print(string1[3:-1])"
   ]
  },
  {
   "cell_type": "markdown",
   "metadata": {},
   "source": [
    "### Update Character"
   ]
  },
  {
   "cell_type": "code",
   "execution_count": 2,
   "metadata": {},
   "outputs": [
    {
     "name": "stdout",
     "output_type": "stream",
     "text": [
      "initial String: \n",
      "Hello, i'am myskill student\n",
      "\n",
      "Update character at 2nd index: \n",
      "Heplo, i'am myskill student\n",
      "Heklo, i'am myskill student\n"
     ]
    }
   ],
   "source": [
    "#python program to update\n",
    "#character of string\n",
    "\n",
    "string1 = \"Hello, i'am myskill student\"\n",
    "print(\"initial String: \")\n",
    "print(string1)\n",
    "\n",
    "list1 = list(string1)\n",
    "list1[2] = 'p'\n",
    "string2 = ''.join(list1)\n",
    "print(\"\\nUpdate character at 2nd index: \")\n",
    "print(string2)\n",
    "\n",
    "string3 = string1[0:2] + 'k' + string1[3:]\n",
    "print(string3)"
   ]
  },
  {
   "cell_type": "markdown",
   "metadata": {},
   "source": [
    "### update entire string"
   ]
  },
  {
   "cell_type": "code",
   "execution_count": 3,
   "metadata": {},
   "outputs": [
    {
     "name": "stdout",
     "output_type": "stream",
     "text": [
      "initial String: \n",
      "Hello, i'am faras\n",
      "\n",
      "Update String: \n",
      "welcome to myskill\n"
     ]
    }
   ],
   "source": [
    "string1 = \"Hello, i'am faras\"\n",
    "print(\"initial String: \")\n",
    "print(string1)\n",
    "\n",
    "string1 = \"welcome to myskill\"\n",
    "print(\"\\nUpdate String: \")\n",
    "print(string1)"
   ]
  },
  {
   "cell_type": "markdown",
   "metadata": {},
   "source": [
    "### Delete character"
   ]
  },
  {
   "cell_type": "code",
   "execution_count": 4,
   "metadata": {},
   "outputs": [
    {
     "name": "stdout",
     "output_type": "stream",
     "text": [
      "initial String: \n",
      "Hello, welcome to myskill\n",
      "\n",
      "Deleteing character at 2nd index: \n",
      "Helo, welcome to myskill\n"
     ]
    }
   ],
   "source": [
    "string1 = \"Hello, welcome to myskill\"\n",
    "print(\"initial String: \")\n",
    "print(string1)\n",
    "\n",
    "string2 = string1[0:2] + string1[3:]\n",
    "print(\"\\nDeleteing character at 2nd index: \")\n",
    "print(string2)"
   ]
  },
  {
   "cell_type": "markdown",
   "metadata": {},
   "source": [
    "### Delete entire string"
   ]
  },
  {
   "cell_type": "code",
   "execution_count": 5,
   "metadata": {},
   "outputs": [
    {
     "name": "stdout",
     "output_type": "stream",
     "text": [
      "initial String: \n",
      "Hello, welcome to myskill\n",
      "\n",
      "Deleteing entire string: \n"
     ]
    },
    {
     "ename": "NameError",
     "evalue": "name 'string1' is not defined",
     "output_type": "error",
     "traceback": [
      "\u001b[1;31m---------------------------------------------------------------------------\u001b[0m",
      "\u001b[1;31mNameError\u001b[0m                                 Traceback (most recent call last)",
      "Cell \u001b[1;32mIn[5], line 7\u001b[0m\n\u001b[0;32m      5\u001b[0m \u001b[39mdel\u001b[39;00m string1\n\u001b[0;32m      6\u001b[0m \u001b[39mprint\u001b[39m(\u001b[39m\"\u001b[39m\u001b[39m\\n\u001b[39;00m\u001b[39mDeleteing entire string: \u001b[39m\u001b[39m\"\u001b[39m)\n\u001b[1;32m----> 7\u001b[0m \u001b[39mprint\u001b[39m(string1)\n",
      "\u001b[1;31mNameError\u001b[0m: name 'string1' is not defined"
     ]
    }
   ],
   "source": [
    "string1 = \"Hello, welcome to myskill\"\n",
    "print(\"initial String: \")\n",
    "print(string1)\n",
    "\n",
    "del string1\n",
    "print(\"\\nDeleteing entire string: \")\n",
    "print(string1)"
   ]
  },
  {
   "cell_type": "markdown",
   "metadata": {},
   "source": [
    "# Escape Sequence in python"
   ]
  },
  {
   "cell_type": "code",
   "execution_count": 6,
   "metadata": {},
   "outputs": [
    {
     "name": "stdout",
     "output_type": "stream",
     "text": [
      "initial string with use of triple quotes: \n",
      "i'm \"smart\"\n",
      "\n",
      "escaping single quotes: \n",
      "i'm \"smart\"\n",
      "\n",
      "escaping double quotes: \n",
      "i'm \"smart\"\n",
      "\n",
      "escaping backslash: \n",
      "C:\\python\\myskill\\\n",
      "\n",
      "Tab: \n",
      "hi\tsmartguy\n",
      "\n",
      "escaping double quotes: \n",
      "i'm \"smart\"\n",
      "\n",
      "new line: \n",
      "pyton\n",
      "myskill\n"
     ]
    }
   ],
   "source": [
    "string1 = '''i'm \"smart\"'''\n",
    "print(\"initial string with use of triple quotes: \")\n",
    "print(string1)\n",
    "\n",
    "string1 = 'i\\'m \"smart\"'\n",
    "print(\"\\nescaping single quotes: \")\n",
    "print(string1)\n",
    "\n",
    "string1 = \"i'm \\\"smart\\\"\"\n",
    "print(\"\\nescaping double quotes: \")\n",
    "print(string1)\n",
    "\n",
    "string1 = \"C:\\\\python\\\\myskill\\\\\"\n",
    "print(\"\\nescaping backslash: \")\n",
    "print(string1)\n",
    "\n",
    "string1 = \"hi\\tsmartguy\"\n",
    "print(\"\\nTab: \")\n",
    "print(string1)\n",
    "\n",
    "string1 = \"i'm \\\"smart\\\"\"\n",
    "print(\"\\nescaping double quotes: \")\n",
    "print(string1)\n",
    "\n",
    "string1 = \"pyton\\nmyskill\"\n",
    "print(\"\\nnew line: \")\n",
    "print(string1)"
   ]
  },
  {
   "cell_type": "markdown",
   "metadata": {},
   "source": [
    "# formating string"
   ]
  },
  {
   "cell_type": "code",
   "execution_count": 8,
   "metadata": {},
   "outputs": [
    {
     "name": "stdout",
     "output_type": "stream",
     "text": [
      "print string in deafult order: \n",
      "myskill for learning\n",
      "\n",
      "print string in positional order: \n",
      "for myskill learning\n",
      "\n",
      "print string in positional order: \n",
      "learning for myskill\n"
     ]
    }
   ],
   "source": [
    "string1 = \"{} {} {}\".format('myskill', 'for', 'learning')\n",
    "print(\"print string in deafult order: \")\n",
    "print(string1)\n",
    "\n",
    "string1 = \"{1} {0} {2}\".format('myskill', 'for', 'learning')\n",
    "print(\"\\nprint string in positional order: \")\n",
    "print(string1)\n",
    "\n",
    "string1 = \"{l} {f} {g}\".format(g = 'myskill', f = 'for', l = 'learning')\n",
    "print(\"\\nprint string in positional order: \")\n",
    "print(string1)"
   ]
  },
  {
   "cell_type": "code",
   "execution_count": 9,
   "metadata": {},
   "outputs": [
    {
     "name": "stdout",
     "output_type": "stream",
     "text": [
      "binary represintasi dari 16 adalah: \n",
      "10000\n",
      "\n",
      "representasi eksponen dari 165.6458: \n",
      "1.664580e+01\n",
      "\n",
      "none sixth is: \n",
      "0.17\n"
     ]
    }
   ],
   "source": [
    "string1 = \"{0:b}\".format(16)\n",
    "print(\"binary represintasi dari 16 adalah: \")\n",
    "print(string1)\n",
    "\n",
    "string1 = \"{0:e}\".format(16.6458)\n",
    "print(\"\\nrepresentasi eksponen dari 165.6458: \")\n",
    "print(string1)\n",
    "\n",
    "string1 = \"{0:.2f}\".format(1/6)\n",
    "print(\"\\nnone sixth is: \")\n",
    "print(string1)"
   ]
  },
  {
   "cell_type": "code",
   "execution_count": 10,
   "metadata": {},
   "outputs": [
    {
     "name": "stdout",
     "output_type": "stream",
     "text": [
      "\n",
      "left, center and right aligment with formating : \n",
      "|myskill   | |   for    | |  learning|\n",
      "\n",
      "myskillforlearning was founded in 2021 !\n"
     ]
    }
   ],
   "source": [
    "string1 = \"|{:<10}| |{:^10}| |{:>10}|\".format('myskill', 'for', 'learning')\n",
    "print('\\nleft, center and right aligment with formating : ')\n",
    "print(string1)\n",
    "\n",
    "string1 = \"\\n{0:^16} was founded in {1:<4} !\".format(\"myskillforlearning\",\n",
    "                                                   2021)\n",
    "print(string1)"
   ]
  },
  {
   "cell_type": "code",
   "execution_count": 11,
   "metadata": {},
   "outputs": [
    {
     "name": "stdout",
     "output_type": "stream",
     "text": [
      "formating in 3.2f format : \n",
      "the value of integer is 12.35 : \n",
      "formating in 3.4f format : \n",
      "the value of integer is 12.3457 : \n"
     ]
    }
   ],
   "source": [
    "integer1 = 12.3456789\n",
    "print(\"formating in 3.2f format : \")\n",
    "print(\"the value of integer is %3.2f : \" % integer1)\n",
    "print(\"formating in 3.4f format : \")\n",
    "print(\"the value of integer is %3.4f : \" % integer1)"
   ]
  },
  {
   "cell_type": "code",
   "execution_count": null,
   "metadata": {},
   "outputs": [],
   "source": []
  }
 ],
 "metadata": {
  "kernelspec": {
   "display_name": "base",
   "language": "python",
   "name": "python3"
  },
  "language_info": {
   "codemirror_mode": {
    "name": "ipython",
    "version": 3
   },
   "file_extension": ".py",
   "mimetype": "text/x-python",
   "name": "python",
   "nbconvert_exporter": "python",
   "pygments_lexer": "ipython3",
   "version": "3.10.9"
  },
  "orig_nbformat": 4
 },
 "nbformat": 4,
 "nbformat_minor": 2
}
