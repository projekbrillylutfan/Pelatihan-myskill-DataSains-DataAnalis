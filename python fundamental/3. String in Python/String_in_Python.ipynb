{
 "cells": [
  {
   "attachments": {},
   "cell_type": "markdown",
   "metadata": {},
   "source": [
    "# String Introduction"
   ]
  },
  {
   "cell_type": "code",
   "execution_count": 4,
   "metadata": {},
   "outputs": [
    {
     "data": {
      "text/plain": [
       "'myskill'"
      ]
     },
     "execution_count": 4,
     "metadata": {},
     "output_type": "execute_result"
    }
   ],
   "source": [
    "\"myskill\" or 'myskill'"
   ]
  },
  {
   "cell_type": "code",
   "execution_count": 5,
   "metadata": {},
   "outputs": [
    {
     "name": "stdout",
     "output_type": "stream",
     "text": [
      "m\n"
     ]
    }
   ],
   "source": [
    "print(\"myskill providing course\"[0])"
   ]
  },
  {
   "attachments": {},
   "cell_type": "markdown",
   "metadata": {},
   "source": [
    "# akses karakter di string"
   ]
  },
  {
   "cell_type": "code",
   "execution_count": 6,
   "metadata": {},
   "outputs": [
    {
     "name": "stdout",
     "output_type": "stream",
     "text": [
      "String with the use of single Quotes : \n",
      "Welcome to Myskill\n",
      "\n",
      "string with the use of double Quotes : \n",
      "i'm john\n",
      "\n",
      "string with the use of double Quotes : \n",
      "i'm myskill student and i develop \"skill\"\n",
      "\n",
      "string with the use of double Quotes : \n",
      "\n",
      "            myskill\n",
      "            for\n",
      "            life\n",
      "            \n"
     ]
    }
   ],
   "source": [
    "# Creting a String \n",
    "# With single Quotes\n",
    "string1 = 'Welcome to Myskill'\n",
    "print(\"String with the use of single Quotes : \")\n",
    "print(string1)\n",
    "\n",
    "# Creating a string \n",
    "# with double Quotes\n",
    "string1 = \"i'm john\"\n",
    "print(\"\\nstring with the use of double Quotes : \")\n",
    "print(string1)\n",
    "\n",
    "# creating a string \n",
    "# With triple Quotes\n",
    "string1 = '''i'm myskill student and i develop \"skill\"'''\n",
    "print(\"\\nstring with the use of double Quotes : \")\n",
    "print(string1)\n",
    "\n",
    "# creating string with triple \n",
    "# Quotes allows multiple lines\n",
    "string1 = '''\n",
    "            myskill\n",
    "            for\n",
    "            life\n",
    "            '''\n",
    "print(\"\\nstring with the use of double Quotes : \")\n",
    "print(string1)"
   ]
  },
  {
   "cell_type": "code",
   "execution_count": 7,
   "metadata": {},
   "outputs": [
    {
     "name": "stdout",
     "output_type": "stream",
     "text": [
      "initial string : \n",
      "myskill\n",
      "\n",
      "first character of string is :\n",
      "m\n",
      "\n",
      "first character of string is :\n",
      "l\n"
     ]
    }
   ],
   "source": [
    "string1 = \"myskill\"\n",
    "print(\"initial string : \")\n",
    "print(string1)\n",
    "\n",
    "# printing first character\n",
    "print(\"\\nfirst character of string is :\")\n",
    "print(string1[0])\n",
    "\n",
    "#printing last character\n",
    "print(\"\\nfirst character of string is :\")\n",
    "print(string1[-1])"
   ]
  },
  {
   "attachments": {},
   "cell_type": "markdown",
   "metadata": {},
   "source": [
    "# delete dan update di string"
   ]
  },
  {
   "attachments": {},
   "cell_type": "markdown",
   "metadata": {},
   "source": [
    "### reverse string"
   ]
  },
  {
   "cell_type": "code",
   "execution_count": 8,
   "metadata": {},
   "outputs": [
    {
     "name": "stdout",
     "output_type": "stream",
     "text": [
      "lliksym\n"
     ]
    }
   ],
   "source": [
    "msk = \"myskill\"\n",
    "print(msk[::-1])"
   ]
  },
  {
   "cell_type": "code",
   "execution_count": 9,
   "metadata": {},
   "outputs": [],
   "source": [
    "msk = \"myskill\"\n",
    "msk = \"\".join(reversed(msk))"
   ]
  },
  {
   "cell_type": "code",
   "execution_count": 10,
   "metadata": {},
   "outputs": [
    {
     "name": "stdout",
     "output_type": "stream",
     "text": [
      "lliksym\n"
     ]
    }
   ],
   "source": [
    "print(msk)"
   ]
  },
  {
   "attachments": {},
   "cell_type": "markdown",
   "metadata": {},
   "source": [
    "### string slicing"
   ]
  },
  {
   "cell_type": "code",
   "execution_count": 11,
   "metadata": {},
   "outputs": [
    {
     "name": "stdout",
     "output_type": "stream",
     "text": [
      "intial string :\n",
      "myskill\n",
      "\n",
      "slicing character from 3-12: \n",
      "kill\n",
      "\n",
      "slicing character between 3rd and 2nd last character : \n",
      "kil\n"
     ]
    }
   ],
   "source": [
    "# creating a string\n",
    "string1 = \"myskill\"\n",
    "print(\"intial string :\")\n",
    "print(string1)\n",
    "\n",
    "# printing 3rd to 12th character\n",
    "print(\"\\nslicing character from 3-12: \")\n",
    "print(string1[3:7])\n",
    "\n",
    "#printing character between\n",
    "#3rd and 2nd last charcter\n",
    "print(\"\\nslicing character between \" +\n",
    "      \"3rd and 2nd last character : \")\n",
    "print(string1[3:-1])"
   ]
  },
  {
   "cell_type": "markdown",
   "metadata": {},
   "source": [
    "### Update Character"
   ]
  },
  {
   "cell_type": "code",
   "execution_count": 2,
   "metadata": {},
   "outputs": [
    {
     "name": "stdout",
     "output_type": "stream",
     "text": [
      "initial String: \n",
      "Hello, i'am myskill student\n",
      "\n",
      "Update character at 2nd index: \n",
      "Heplo, i'am myskill student\n",
      "Heklo, i'am myskill student\n"
     ]
    }
   ],
   "source": [
    "#python program to update\n",
    "#character of string\n",
    "\n",
    "string1 = \"Hello, i'am myskill student\"\n",
    "print(\"initial String: \")\n",
    "print(string1)\n",
    "\n",
    "list1 = list(string1)\n",
    "list1[2] = 'p'\n",
    "string2 = ''.join(list1)\n",
    "print(\"\\nUpdate character at 2nd index: \")\n",
    "print(string2)\n",
    "\n",
    "string3 = string1[0:2] + 'k' + string1[3:]\n",
    "print(string3)"
   ]
  },
  {
   "cell_type": "code",
   "execution_count": null,
   "metadata": {},
   "outputs": [],
   "source": []
  }
 ],
 "metadata": {
  "kernelspec": {
   "display_name": "base",
   "language": "python",
   "name": "python3"
  },
  "language_info": {
   "codemirror_mode": {
    "name": "ipython",
    "version": 3
   },
   "file_extension": ".py",
   "mimetype": "text/x-python",
   "name": "python",
   "nbconvert_exporter": "python",
   "pygments_lexer": "ipython3",
   "version": "3.10.9"
  },
  "orig_nbformat": 4
 },
 "nbformat": 4,
 "nbformat_minor": 2
}
