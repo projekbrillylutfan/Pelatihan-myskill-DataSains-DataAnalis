{
 "cells": [
  {
   "attachments": {},
   "cell_type": "markdown",
   "metadata": {},
   "source": [
    "# Linked List"
   ]
  },
  {
   "cell_type": "code",
   "execution_count": 3,
   "metadata": {},
   "outputs": [
    {
     "name": "stdout",
     "output_type": "stream",
     "text": [
      "['first', 'second', 'third']\n",
      "\n",
      "['first', 'second', 'third', 'sixth', 'fourth', 'fith']\n",
      "\n",
      "['first', 'third', 'sixth', 'fourth', 'fith']\n",
      "\n"
     ]
    }
   ],
   "source": [
    "linked_list = ['first', 'second', 'third']\n",
    "print(linked_list)\n",
    "\n",
    "print()\n",
    "\n",
    "linked_list.append('fourth')\n",
    "linked_list.append('fith')\n",
    "linked_list.insert(3, 'sixth')\n",
    "print(linked_list)\n",
    "print()\n",
    "\n",
    "linked_list.remove('second')\n",
    "print(linked_list)\n",
    "print()"
   ]
  },
  {
   "attachments": {},
   "cell_type": "markdown",
   "metadata": {},
   "source": [
    "# Stack"
   ]
  },
  {
   "cell_type": "code",
   "execution_count": 5,
   "metadata": {},
   "outputs": [
    {
     "name": "stdout",
     "output_type": "stream",
     "text": [
      "['first', 'second', 'third']\n",
      "\n",
      "['first', 'second', 'third', 'fourth', 'fith']\n",
      "\n",
      "fith\n",
      "\n",
      "['first', 'second', 'third', 'fourth']\n"
     ]
    }
   ],
   "source": [
    "stack = ['first', 'second', 'third']\n",
    "print(stack)\n",
    "\n",
    "print()\n",
    "\n",
    "#push elment yang digunakan\n",
    "stack.append('fourth')\n",
    "stack.append('fith')\n",
    "print(stack)\n",
    "print()\n",
    "\n",
    "#printing top\n",
    "print(stack[-1])\n",
    "print()\n",
    "\n",
    "# mengambil elmen atau poping elment\n",
    "stack.pop()\n",
    "print(stack)\n"
   ]
  },
  {
   "attachments": {},
   "cell_type": "markdown",
   "metadata": {},
   "source": [
    "# Queue"
   ]
  },
  {
   "cell_type": "code",
   "execution_count": 6,
   "metadata": {},
   "outputs": [
    {
     "name": "stdout",
     "output_type": "stream",
     "text": [
      "['first', 'second', 'third']\n",
      "\n",
      "['first', 'second', 'third', 'fourth', 'fifth']\n",
      "\n",
      "first\n",
      "fifth\n",
      "\n",
      "['second', 'third', 'fourth', 'fifth']\n"
     ]
    }
   ],
   "source": [
    "queue = ['first', 'second', 'third']\n",
    "print(queue)\n",
    "\n",
    "print()\n",
    "\n",
    "# pushing element\n",
    "queue.append('fourth')\n",
    "queue.append('fifth')\n",
    "print(queue)\n",
    "print()\n",
    "\n",
    "# printing head\n",
    "print(queue[0])\n",
    "\n",
    "# printing tail\n",
    "n = len(queue)\n",
    "print(queue[n-1])\n",
    "print()\n",
    "\n",
    "# poping element\n",
    "queue.remove(queue[0])\n",
    "print(queue)"
   ]
  },
  {
   "attachments": {},
   "cell_type": "markdown",
   "metadata": {},
   "source": [
    "# Tree"
   ]
  },
  {
   "cell_type": "code",
   "execution_count": 8,
   "metadata": {},
   "outputs": [
    {
     "name": "stdout",
     "output_type": "stream",
     "text": [
      "first\n",
      "second\n",
      "third\n"
     ]
    }
   ],
   "source": [
    "class node:\n",
    "    def __init__(self, ele):\n",
    "        self.ele = ele\n",
    "        self.left = None\n",
    "        self.right = None\n",
    "\n",
    "def preorder(self):\n",
    "    if self:\n",
    "        print(self.ele)\n",
    "        preorder(self.left)\n",
    "        preorder(self.right)\n",
    "\n",
    "n =  node('first')\n",
    "n.left = node('second')\n",
    "n.right = node('third')\n",
    "preorder(n)\n",
    "\n"
   ]
  },
  {
   "attachments": {},
   "cell_type": "markdown",
   "metadata": {},
   "source": [
    "# Graph"
   ]
  },
  {
   "cell_type": "code",
   "execution_count": 13,
   "metadata": {},
   "outputs": [
    {
     "name": "stdout",
     "output_type": "stream",
     "text": [
      "adjacency list of vertex 0\n",
      " head -> 3 -> 2adjacency list of vertex 1\n",
      " head -> 3adjacency list of vertex 2\n",
      " headadjacency list of vertex 3\n",
      " head -> 2"
     ]
    }
   ],
   "source": [
    "class adjnode:\n",
    "    def __init__(self, val):\n",
    "        self.val = val\n",
    "        self.next = None\n",
    "\n",
    "class graph:\n",
    "    def __init__(self, vertices):\n",
    "        self.v = vertices\n",
    "        self.ele = [None]*self.v\n",
    "\n",
    "    def edge(self, src, dest):\n",
    "        node = adjnode(dest)\n",
    "        node.next = self.ele[src]\n",
    "        self.ele[src] = node\n",
    "\n",
    "        node = adjnode(src)\n",
    "        node.next = self.ele[dest]\n",
    "        self.ele[dest]\n",
    "    \n",
    "    def __repr__(self):\n",
    "        for i in range(self.v):\n",
    "            print(\"adjacency list of vertex {}\\n head\".format(i), end='')\n",
    "            temp = self.ele[i]\n",
    "            while temp:\n",
    "                print(\" -> {}\".format(temp.val), end=\"\")\n",
    "                temp = temp.next\n",
    "\n",
    "g = graph(4)\n",
    "g.edge(0, 2)\n",
    "g.edge(1, 3)\n",
    "g.edge(3, 2)\n",
    "g.edge(0, 3)\n",
    "g.__repr__()"
   ]
  },
  {
   "attachments": {},
   "cell_type": "markdown",
   "metadata": {},
   "source": [
    "# Hashmap"
   ]
  },
  {
   "cell_type": "code",
   "execution_count": 14,
   "metadata": {},
   "outputs": [
    {
     "name": "stdout",
     "output_type": "stream",
     "text": [
      "0 -> first\n",
      "1 -> second\n",
      "2 -> third\n",
      "\n",
      "0 -> first\n",
      "1 -> second\n",
      "2 -> third\n",
      "3 -> fourth\n",
      "\n",
      "0 -> first\n",
      "1 -> second\n",
      "2 -> third\n"
     ]
    }
   ],
   "source": [
    "def printdict(d):\n",
    "    for key in d:\n",
    "        print(key, \"->\", d[key])\n",
    "\n",
    "hashmap = {0:'first', 1:'second', 2:'third'}\n",
    "printdict(hashmap)\n",
    "print()\n",
    "\n",
    "hashmap[3] = 'fourth'\n",
    "printdict(hashmap)\n",
    "\n",
    "print()\n",
    "\n",
    "hashmap.popitem()\n",
    "printdict(hashmap)"
   ]
  },
  {
   "cell_type": "code",
   "execution_count": null,
   "metadata": {},
   "outputs": [],
   "source": []
  }
 ],
 "metadata": {
  "kernelspec": {
   "display_name": "base",
   "language": "python",
   "name": "python3"
  },
  "language_info": {
   "codemirror_mode": {
    "name": "ipython",
    "version": 3
   },
   "file_extension": ".py",
   "mimetype": "text/x-python",
   "name": "python",
   "nbconvert_exporter": "python",
   "pygments_lexer": "ipython3",
   "version": "3.10.9"
  },
  "orig_nbformat": 4
 },
 "nbformat": 4,
 "nbformat_minor": 2
}
