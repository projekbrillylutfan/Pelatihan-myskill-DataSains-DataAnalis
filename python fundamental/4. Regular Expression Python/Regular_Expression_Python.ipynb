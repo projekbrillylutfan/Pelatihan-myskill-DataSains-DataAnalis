{
 "cells": [
  {
   "cell_type": "markdown",
   "metadata": {},
   "source": [
    "# Regular Expression Python"
   ]
  },
  {
   "cell_type": "code",
   "execution_count": 5,
   "metadata": {},
   "outputs": [
    {
     "name": "stdout",
     "output_type": "stream",
     "text": [
      "start index:  10\n",
      "end index:  16\n"
     ]
    }
   ],
   "source": [
    "import re\n",
    "s = 'myskill : portal for any learning path'\n",
    "\n",
    "match = re.search(r'portal', s)\n",
    "\n",
    "print('start index: ', match.start())\n",
    "print('end index: ', match.end())"
   ]
  },
  {
   "cell_type": "markdown",
   "metadata": {},
   "source": [
    "## Metacharacter"
   ]
  },
  {
   "cell_type": "code",
   "execution_count": 6,
   "metadata": {},
   "outputs": [
    {
     "name": "stdout",
     "output_type": "stream",
     "text": [
      "<re.Match object; span=(0, 1), match='m'>\n",
      "<re.Match object; span=(2, 3), match='.'>\n"
     ]
    }
   ],
   "source": [
    "s = 'my.skill'\n",
    "\n",
    "#tanpa menggunakan \\\n",
    "match = re.search(r'.', s)\n",
    "print(match)\n",
    "\n",
    "#menggunakan \\\n",
    "match = re.search(r'\\.', s)\n",
    "print(match)"
   ]
  },
  {
   "cell_type": "markdown",
   "metadata": {},
   "source": [
    "## Modul Regex - re library"
   ]
  },
  {
   "cell_type": "markdown",
   "metadata": {},
   "source": [
    "### re.findall()"
   ]
  },
  {
   "cell_type": "code",
   "execution_count": 8,
   "metadata": {},
   "outputs": [
    {
     "name": "stdout",
     "output_type": "stream",
     "text": [
      "['9234722387', '234130324']\n"
     ]
    }
   ],
   "source": [
    "# sebuah sample teks string dimana reguler ekspresi di cari\n",
    "string = \"\"\"Hello my student id is 9234722387 and \n",
    "            my friend's number student id is234130324\"\"\"\n",
    "\n",
    "#sebuah sampel reguler ekspresi untuk mencari dijit\n",
    "regex = '\\d+'\n",
    "\n",
    "match = re.findall(regex, string)\n",
    "print(match)"
   ]
  },
  {
   "cell_type": "markdown",
   "metadata": {},
   "source": [
    "### re.compile()"
   ]
  },
  {
   "cell_type": "code",
   "execution_count": 10,
   "metadata": {},
   "outputs": [
    {
     "name": "stdout",
     "output_type": "stream",
     "text": [
      "['e', 'a', 'd', 'b', 'e', 'a']\n"
     ]
    }
   ],
   "source": [
    "# compiler membuat reguler ekspresi\n",
    "# karakter kelas dari a sampai e\n",
    "#yang dimana sama dengan abcde\n",
    "p = re.compile('[a-e]')\n",
    "\n",
    "print(p.findall(\"Aye said Mr. Gibenson Stark\"))\n"
   ]
  },
  {
   "cell_type": "code",
   "execution_count": 11,
   "metadata": {},
   "outputs": [
    {
     "name": "stdout",
     "output_type": "stream",
     "text": [
      "['1', '1', '4', '1', '8', '8', '6']\n",
      "['11', '4', '1886']\n"
     ]
    }
   ],
   "source": [
    "p = re.compile('\\d')\n",
    "print(p.findall(\"i want to him at 11 A.M on 4th july 1886\"))\n",
    "\n",
    "p = re.compile('\\d+')\n",
    "print(p.findall(\"i want to him at 11 A.M on 4th july 1886\"))"
   ]
  },
  {
   "cell_type": "markdown",
   "metadata": {},
   "source": [
    "### re.split()"
   ]
  },
  {
   "cell_type": "code",
   "execution_count": 15,
   "metadata": {},
   "outputs": [
    {
     "name": "stdout",
     "output_type": "stream",
     "text": [
      "['Words', 'words', 'Words']\n",
      "['Word', 's', 'words', 'Words']\n",
      "['on', '12th', 'Jan', '2016', 'at', '11', '02', 'AM']\n",
      "['on ', 'th Jan ', ', at ', ':', ' AM']\n"
     ]
    }
   ],
   "source": [
    "from re import split\n",
    "\n",
    "print(split('\\W+', 'Words, words , Words'))\n",
    "print(split('\\W+', \"Word's words Words\"))\n",
    "\n",
    "print(split('\\W+', 'on 12th Jan 2016, at 11:02 AM'))\n",
    "\n",
    "print(split('\\d+', 'on 12th Jan 2016, at 11:02 AM'))"
   ]
  },
  {
   "cell_type": "markdown",
   "metadata": {},
   "source": [
    "### re.sub()\n",
    "\n",
    "re.sub(pattern, replace, string, count=0, flags=0)"
   ]
  },
  {
   "cell_type": "code",
   "execution_count": 19,
   "metadata": {},
   "outputs": [
    {
     "name": "stdout",
     "output_type": "stream",
     "text": [
      "S-*ject has -*er booked already\n",
      "S-*ject has Uber booked already\n",
      "S-*ject has Uber booked already\n",
      "Baked Beans & Spam\n"
     ]
    }
   ],
   "source": [
    "print(re.sub('ub', '-*', 'Subject has Uber booked already', flags=re.IGNORECASE))\n",
    "\n",
    "print(re.sub('ub', '-*', 'Subject has Uber booked already'))\n",
    "\n",
    "print(re.sub('ub', '-*', 'Subject has Uber booked already', count = 1, flags=re.IGNORECASE))\n",
    "\n",
    "print(re.sub(r'\\sAND\\s', ' & ', 'Baked Beans and Spam', flags=re.IGNORECASE))"
   ]
  },
  {
   "cell_type": "markdown",
   "metadata": {},
   "source": [
    "### re.subn()\n",
    "\n",
    "re.subn(pattern, string, count = 0, flags = 0)"
   ]
  },
  {
   "cell_type": "code",
   "execution_count": 24,
   "metadata": {},
   "outputs": [
    {
     "name": "stdout",
     "output_type": "stream",
     "text": [
      "('S-*ject has Uber booked already', 1)\n",
      "('S-*ject has -*er booked already', 2)\n",
      "2\n",
      "S-*ject has -*er booked already\n"
     ]
    }
   ],
   "source": [
    "print(re.subn('ub', '-*', 'Subject has Uber booked already'))\n",
    "\n",
    "t = re.subn('ub', '-*', 'Subject has Uber booked already', flags = re.IGNORECASE)\n",
    "\n",
    "print(t)\n",
    "print(len(t))\n",
    "\n",
    "print(t[0])"
   ]
  },
  {
   "cell_type": "markdown",
   "metadata": {},
   "source": [
    "### re.escape()\n",
    "\n",
    "re.escape(string)"
   ]
  },
  {
   "cell_type": "code",
   "execution_count": 25,
   "metadata": {},
   "outputs": [
    {
     "name": "stdout",
     "output_type": "stream",
     "text": [
      "this\\ is\\ Awesome\\ even\\ 1\\ AM\n",
      "I\\ Asked\\ what\\ is\\ this\\ \\[a\\-9\\],\\ he\\ said\\ \\\t\\ \"WoW\"\n"
     ]
    }
   ],
   "source": [
    "print(re.escape('this is Awesome even 1 AM'))\n",
    "print(re.escape('I Asked what is this [a-9], he said \\t \"WoW\"'))"
   ]
  },
  {
   "cell_type": "code",
   "execution_count": 28,
   "metadata": {},
   "outputs": [
    {
     "name": "stdout",
     "output_type": "stream",
     "text": [
      "Match at index 14, 21\n",
      "full match: June 24\n",
      "month: June\n",
      "day: 24\n"
     ]
    }
   ],
   "source": [
    "regex = r\"([a-zA-Z]+) (\\d+)\"\n",
    "\n",
    "match = re.search(regex, \"I was born on June 24\")\n",
    "\n",
    "if match != None:\n",
    "    print(\"Match at index %s, %s\" % (match.start(), match.end()))\n",
    "    print(\"full match: %s\" % (match.group(0)))\n",
    "    print(\"month: %s\" % (match.group(1)))\n",
    "    print(\"day: %s\" % (match.group(2)))\n",
    "\n",
    "else:\n",
    "    print(\"The regex pattern does not match\")"
   ]
  },
  {
   "cell_type": "markdown",
   "metadata": {},
   "source": [
    "## Match Object"
   ]
  },
  {
   "cell_type": "code",
   "execution_count": 31,
   "metadata": {},
   "outputs": [
    {
     "ename": "AttributeError",
     "evalue": "'NoneType' object has no attribute 're'",
     "output_type": "error",
     "traceback": [
      "\u001b[1;31m---------------------------------------------------------------------------\u001b[0m",
      "\u001b[1;31mAttributeError\u001b[0m                            Traceback (most recent call last)",
      "Cell \u001b[1;32mIn[31], line 7\u001b[0m\n\u001b[0;32m      3\u001b[0m s \u001b[39m=\u001b[39m \u001b[39m\"\u001b[39m\u001b[39mgreeting to MYSKILL PORTAL\u001b[39m\u001b[39m\"\u001b[39m\n\u001b[0;32m      5\u001b[0m res \u001b[39m=\u001b[39m re\u001b[39m.\u001b[39msearch(\u001b[39mr\u001b[39m\u001b[39m\"\u001b[39m\u001b[39m\\\u001b[39m\u001b[39mbG\u001b[39m\u001b[39m\"\u001b[39m, s)\n\u001b[1;32m----> 7\u001b[0m \u001b[39mprint\u001b[39m(res\u001b[39m.\u001b[39;49mre)\n\u001b[0;32m      8\u001b[0m \u001b[39mprint\u001b[39m(res\u001b[39m.\u001b[39mstring)\n",
      "\u001b[1;31mAttributeError\u001b[0m: 'NoneType' object has no attribute 're'"
     ]
    }
   ],
   "source": [
    "import re\n",
    "\n",
    "s = \"Greeting to MYSKILL PORTAL\"\n",
    "\n",
    "res = re.search(r\"\\bG\", s)\n",
    "\n",
    "print(res.re)\n",
    "print(res.string)"
   ]
  },
  {
   "cell_type": "code",
   "execution_count": 30,
   "metadata": {},
   "outputs": [
    {
     "name": "stdout",
     "output_type": "stream",
     "text": [
      "11\n",
      "14\n",
      "(11, 14)\n"
     ]
    }
   ],
   "source": [
    "s = \"Welcome to SeedsLand\"\n",
    "\n",
    "res = re.search(r\"\\bSee\", s)\n",
    "\n",
    "print(res.start())\n",
    "print(res.end())\n",
    "print(res.span())"
   ]
  },
  {
   "cell_type": "code",
   "execution_count": null,
   "metadata": {},
   "outputs": [],
   "source": []
  },
  {
   "cell_type": "code",
   "execution_count": null,
   "metadata": {},
   "outputs": [],
   "source": []
  }
 ],
 "metadata": {
  "kernelspec": {
   "display_name": "base",
   "language": "python",
   "name": "python3"
  },
  "language_info": {
   "codemirror_mode": {
    "name": "ipython",
    "version": 3
   },
   "file_extension": ".py",
   "mimetype": "text/x-python",
   "name": "python",
   "nbconvert_exporter": "python",
   "pygments_lexer": "ipython3",
   "version": "3.10.9"
  },
  "orig_nbformat": 4
 },
 "nbformat": 4,
 "nbformat_minor": 2
}
